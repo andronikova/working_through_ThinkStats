{
 "cells": [
  {
   "cell_type": "code",
   "execution_count": 1,
   "metadata": {},
   "outputs": [],
   "source": [
    "import pandas as pd\n",
    "import seaborn as sns\n",
    "import matplotlib.pyplot as plt\n",
    "%matplotlib inline\n",
    "\n",
    "import numpy as np\n",
    "import math\n",
    "import scipy\n",
    "import random\n",
    "\n",
    "from statsmodels.distributions.empirical_distribution import ECDF"
   ]
  },
  {
   "cell_type": "markdown",
   "metadata": {},
   "source": [
    "# Statistics\n",
    "\n",
    "Any time you take a sample and reduce it to a single number, that number is a statistic. The statistics we have seen so far include mean, variance, median, and interquartile range."
   ]
  },
  {
   "cell_type": "markdown",
   "metadata": {},
   "source": [
    "## Raw moment"
   ]
  },
  {
   "cell_type": "code",
   "execution_count": 2,
   "metadata": {},
   "outputs": [
    {
     "data": {
      "text/plain": [
       "array([ 0.,  1.,  2.,  3.,  4.,  5.,  6.,  7.,  8.,  9., 10.])"
      ]
     },
     "execution_count": 2,
     "metadata": {},
     "output_type": "execute_result"
    }
   ],
   "source": [
    "x = np.linspace(0,10,11)\n",
    "x"
   ]
  },
  {
   "cell_type": "code",
   "execution_count": 3,
   "metadata": {},
   "outputs": [],
   "source": [
    "def RawMoment(xs, k):\n",
    "    return sum(x**k for x in xs)/len(xs)"
   ]
  },
  {
   "cell_type": "markdown",
   "metadata": {},
   "source": [
    "first row moment is mean"
   ]
  },
  {
   "cell_type": "code",
   "execution_count": 4,
   "metadata": {},
   "outputs": [
    {
     "data": {
      "text/plain": [
       "5.0"
      ]
     },
     "execution_count": 4,
     "metadata": {},
     "output_type": "execute_result"
    }
   ],
   "source": [
    "RawMoment(x,1)"
   ]
  },
  {
   "cell_type": "markdown",
   "metadata": {},
   "source": [
    "## Cental moment"
   ]
  },
  {
   "cell_type": "code",
   "execution_count": 5,
   "metadata": {},
   "outputs": [],
   "source": [
    "def CentralMoment(xs, k):\n",
    "    mean = RawMoment(xs,1)\n",
    "    \n",
    "    return sum((x - mean)**k for x in xs) / len(xs)"
   ]
  },
  {
   "cell_type": "markdown",
   "metadata": {},
   "source": [
    "Second central moment is variance"
   ]
  },
  {
   "cell_type": "code",
   "execution_count": 6,
   "metadata": {},
   "outputs": [
    {
     "data": {
      "text/plain": [
       "10.0"
      ]
     },
     "execution_count": 6,
     "metadata": {},
     "output_type": "execute_result"
    }
   ],
   "source": [
    "CentralMoment(x, 2)"
   ]
  },
  {
   "cell_type": "markdown",
   "metadata": {},
   "source": [
    "## Standardized Moment\n",
    "\n",
    "normalized central moment, so it has no units."
   ]
  },
  {
   "cell_type": "code",
   "execution_count": 7,
   "metadata": {},
   "outputs": [],
   "source": [
    "def StandardizeMoment(xs,k):\n",
    "    var = CentralMoment(xs, 2)\n",
    "    std = math.sqrt(var)\n",
    "    \n",
    "    return CentralMoment(xs, k)/std**k"
   ]
  },
  {
   "cell_type": "code",
   "execution_count": 8,
   "metadata": {},
   "outputs": [
    {
     "data": {
      "text/plain": [
       "0.9999999999999998"
      ]
     },
     "execution_count": 8,
     "metadata": {},
     "output_type": "execute_result"
    }
   ],
   "source": [
    "StandardizeMoment(x, 2)"
   ]
  },
  {
   "cell_type": "markdown",
   "metadata": {},
   "source": [
    "## Skewness\n"
   ]
  },
  {
   "cell_type": "markdown",
   "metadata": {},
   "source": [
    "### as a third standardized moment"
   ]
  },
  {
   "cell_type": "code",
   "execution_count": 9,
   "metadata": {},
   "outputs": [],
   "source": [
    "def Skewness(xs):\n",
    "    return round(StandardizeMoment(xs, 3),3)"
   ]
  },
  {
   "cell_type": "markdown",
   "metadata": {},
   "source": [
    "### Pearson’s median skewness coefficient "
   ]
  },
  {
   "cell_type": "code",
   "execution_count": 10,
   "metadata": {},
   "outputs": [],
   "source": [
    "def PearsonMedianSkewness(xs):\n",
    "    median = np.median(xs)\n",
    "    mean = np.mean(xs)\n",
    "    \n",
    "    std = np.std(xs)\n",
    "    \n",
    "    gp = 3 * (mean - median)/std\n",
    "    \n",
    "    return round(gp,3)"
   ]
  },
  {
   "cell_type": "code",
   "execution_count": 11,
   "metadata": {},
   "outputs": [],
   "source": [
    "sample = [random.gauss(0,1) for i in range(0,11)]"
   ]
  },
  {
   "cell_type": "code",
   "execution_count": 12,
   "metadata": {},
   "outputs": [
    {
     "data": {
      "text/plain": [
       "-0.891"
      ]
     },
     "execution_count": 12,
     "metadata": {},
     "output_type": "execute_result"
    }
   ],
   "source": [
    "PearsonMedianSkewness(sample)"
   ]
  },
  {
   "cell_type": "markdown",
   "metadata": {},
   "source": [
    "Sample skewness is less robust; that is, it is more susceptible to outliers. As a result it is less reliable when applied to skewed distributions, exactly when it would be most relevant.\n",
    "\n",
    "Pearson’s median skewness is based on a computed mean and variance, so it is also susceptible to outliers, but since it does not depend on a third moment, it is somewhat more robust."
   ]
  },
  {
   "cell_type": "markdown",
   "metadata": {},
   "source": [
    "### Example with birth weight"
   ]
  },
  {
   "cell_type": "code",
   "execution_count": 13,
   "metadata": {},
   "outputs": [],
   "source": [
    "preg = pd.read_csv('code/preg.csv')\n",
    "live = preg[preg.outcome==1]"
   ]
  },
  {
   "cell_type": "code",
   "execution_count": 14,
   "metadata": {},
   "outputs": [
    {
     "data": {
      "text/plain": [
       "<AxesSubplot:label='d263d050-8979-440c-b31a-b958a2493b78', xlabel='totalwgt_lb', ylabel='Count'>"
      ]
     },
     "execution_count": 14,
     "metadata": {},
     "output_type": "execute_result"
    },
    {
     "data": {
      "image/png": "[encoded data removed]",
      "text/plain": [
       "<Figure size 432x288 with 2 Axes>"
      ]
     },
     "metadata": {
      "needs_background": "light"
     },
     "output_type": "display_data"
    }
   ],
   "source": [
    "xs = np.linspace(0,16,100)\n",
    "kde_plot = scipy.stats.gaussian_kde(live.totalwgt_lb.dropna()).evaluate(xs)\n",
    "\n",
    "sns.lineplot(x=xs, y=kde_plot,color='black').set(xlabel='birth weight',ylabel='PDF')\n",
    "plt.axvline(live.totalwgt_lb.mean(), 0, live.totalwgt_lb.mode(),color='gray')\n",
    "plt.axvline(live.totalwgt_lb.median(), 0, live.totalwgt_lb.mode(),color='blue')\n",
    "plt.legend(['KDE of birth weight',f'mean = {round(live.totalwgt_lb.mean(),2)}',f'median={live.totalwgt_lb.median()}'])\n",
    "\n",
    "ax2 = plt.twinx()\n",
    "sns.histplot(live.totalwgt_lb,ax=ax2)\n"
   ]
  },
  {
   "cell_type": "code",
   "execution_count": 15,
   "metadata": {},
   "outputs": [
    {
     "data": {
      "text/plain": [
       "\"Distribution is skewed left, sample skewness is -0.59, Pearson's skewness is -0.233\""
      ]
     },
     "execution_count": 15,
     "metadata": {},
     "output_type": "execute_result"
    }
   ],
   "source": [
    "f\"Distribution is skewed left, sample skewness is {Skewness(live.totalwgt_lb.dropna())}, Pearson's skewness is {PearsonMedianSkewness(live.totalwgt_lb.dropna())}\""
   ]
  },
  {
   "cell_type": "markdown",
   "metadata": {},
   "source": [
    "### Example with adult weight"
   ]
  },
  {
   "cell_type": "code",
   "execution_count": 16,
   "metadata": {},
   "outputs": [],
   "source": [
    "brfss = pd.read_csv('code/brfss.csv')"
   ]
  },
  {
   "cell_type": "code",
   "execution_count": 17,
   "metadata": {},
   "outputs": [
    {
     "data": {
      "text/plain": [
       "<AxesSubplot:label='7f81e77c-052c-4286-a148-b5ba130e8f25', xlabel='wtkg2', ylabel='Count'>"
      ]
     },
     "execution_count": 17,
     "metadata": {},
     "output_type": "execute_result"
    },
    {
     "data": {
      "image/png": "[encoded data removed]",
      "text/plain": [
       "<Figure size 432x288 with 2 Axes>"
      ]
     },
     "metadata": {
      "needs_background": "light"
     },
     "output_type": "display_data"
    }
   ],
   "source": [
    "xs = np.linspace(min(brfss.wtkg2),max(brfss.wtkg2),200)\n",
    "kde_plot = scipy.stats.gaussian_kde(brfss.wtkg2.dropna()).evaluate(xs)\n",
    "\n",
    "mean = brfss.wtkg2.dropna().mean()\n",
    "median =brfss.wtkg2.dropna().median()\n",
    "mode = brfss.wtkg2.mode()\n",
    "\n",
    "sns.lineplot(x=xs, y=kde_plot,color='black').set(xlabel='adult weight',ylabel='PDF')\n",
    "plt.axvline(mean, 0, mode,color='gray')\n",
    "plt.axvline(median, 0, mode,color='blue')\n",
    "\n",
    "plt.legend(['KDE of adult weight',f'mean = {round(mean,2)}',f'median={median}'])\n",
    "\n",
    "ax2 = plt.twinx()\n",
    "sns.histplot(brfss.wtkg2,ax=ax2)"
   ]
  },
  {
   "cell_type": "code",
   "execution_count": 18,
   "metadata": {},
   "outputs": [
    {
     "data": {
      "text/plain": [
       "\"Distribution is skewed right, sample skewness is 1.055, Pearson's skewness is 0.264\""
      ]
     },
     "execution_count": 18,
     "metadata": {},
     "output_type": "execute_result"
    }
   ],
   "source": [
    "f\"Distribution is skewed right, sample skewness is {Skewness(brfss.wtkg2.dropna())}, Pearson's skewness is {PearsonMedianSkewness(brfss.wtkg2.dropna())}\""
   ]
  },
  {
   "cell_type": "markdown",
   "metadata": {},
   "source": [
    "## Exercise for chapter 6"
   ]
  },
  {
   "cell_type": "code",
   "execution_count": 19,
   "metadata": {},
   "outputs": [],
   "source": [
    "hinc = pd.read_csv('code/hinc.csv')"
   ]
  },
  {
   "cell_type": "code",
   "execution_count": 20,
   "metadata": {},
   "outputs": [],
   "source": [
    "# hinc[hinc.income==np.inf]"
   ]
  },
  {
   "cell_type": "code",
   "execution_count": 21,
   "metadata": {},
   "outputs": [
    {
     "name": "stdout",
     "output_type": "stream",
     "text": [
      "<class 'pandas.core.frame.DataFrame'>\n",
      "RangeIndex: 42 entries, 0 to 41\n",
      "Data columns (total 4 columns):\n",
      " #   Column  Non-Null Count  Dtype  \n",
      "---  ------  --------------  -----  \n",
      " 0   income  42 non-null     float64\n",
      " 1   freq    42 non-null     int64  \n",
      " 2   cumsum  42 non-null     int64  \n",
      " 3   ps      42 non-null     float64\n",
      "dtypes: float64(2), int64(2)\n",
      "memory usage: 1.4 KB\n"
     ]
    }
   ],
   "source": [
    "hinc.info()"
   ]
  },
  {
   "cell_type": "code",
   "execution_count": 22,
   "metadata": {},
   "outputs": [],
   "source": [
    "# copypast from hinc2.py\n",
    "def InterpolateSample(df, log_upper=6.0):\n",
    "     # compute the log10 of the upper bound for each range\n",
    "    df['log_upper'] = np.log10(df.income)\n",
    "\n",
    "    # get the lower bounds by shifting the upper bound and filling in\n",
    "    # the first element\n",
    "    df['log_lower'] = df.log_upper.shift(1)\n",
    "    df.log_lower[0] = 3.0\n",
    "\n",
    "    # plug in a value for the unknown upper bound of the highest range\n",
    "    df.log_upper[41] = log_upper\n",
    "\n",
    "    # use the freq column to generate the right number of values in\n",
    "    # each range\n",
    "    arrays = []\n",
    "    for index, row in df.iterrows():\n",
    "        vals = np.linspace(row.log_lower, row.log_upper, int(row.freq))\n",
    "        arrays.append(vals)\n",
    "\n",
    "    # collect the arrays into a single sample\n",
    "    log_sample = np.concatenate(arrays)\n",
    "    return log_sample"
   ]
  },
  {
   "cell_type": "code",
   "execution_count": 23,
   "metadata": {},
   "outputs": [
    {
     "name": "stderr",
     "output_type": "stream",
     "text": [
      "<ipython-input-22-428e37da6e73>:9: SettingWithCopyWarning: \n",
      "A value is trying to be set on a copy of a slice from a DataFrame\n",
      "\n",
      "See the caveats in the documentation: https://pandas.pydata.org/pandas-docs/stable/user_guide/indexing.html#returning-a-view-versus-a-copy\n",
      "  df.log_lower[0] = 3.0\n",
      "<ipython-input-22-428e37da6e73>:12: SettingWithCopyWarning: \n",
      "A value is trying to be set on a copy of a slice from a DataFrame\n",
      "\n",
      "See the caveats in the documentation: https://pandas.pydata.org/pandas-docs/stable/user_guide/indexing.html#returning-a-view-versus-a-copy\n",
      "  df.log_upper[41] = log_upper\n"
     ]
    }
   ],
   "source": [
    "income_log = InterpolateSample(hinc,log_upper=6)\n",
    "income = np.power(10, income_log)"
   ]
  },
  {
   "cell_type": "code",
   "execution_count": 24,
   "metadata": {},
   "outputs": [
    {
     "data": {
      "text/plain": [
       "1000000.0"
      ]
     },
     "execution_count": 24,
     "metadata": {},
     "output_type": "execute_result"
    }
   ],
   "source": [
    "max(income)"
   ]
  },
  {
   "cell_type": "code",
   "execution_count": 25,
   "metadata": {},
   "outputs": [
    {
     "data": {
      "text/plain": [
       "[(0.0, 500000.0)]"
      ]
     },
     "execution_count": 25,
     "metadata": {},
     "output_type": "execute_result"
    },
    {
     "data": {
      "image/png": "[encoded data removed]",
      "text/plain": [
       "<Figure size 432x288 with 2 Axes>"
      ]
     },
     "metadata": {
      "needs_background": "light"
     },
     "output_type": "display_data"
    }
   ],
   "source": [
    "xs = np.linspace(min(income),max(income),200)\n",
    "kde_plot = scipy.stats.gaussian_kde(income).evaluate(xs)\n",
    "\n",
    "mean = income.mean()\n",
    "median = np.median(income)\n",
    "mode = np.max(income)\n",
    "\n",
    "sns.lineplot(x=xs, y=kde_plot,color='black').set(xlabel='income',ylabel='PDF')\n",
    "plt.axvline(mean, 0, mode,color='gray')\n",
    "plt.axvline(median, 0, mode,color='blue')\n",
    "\n",
    "plt.legend(['KDE',f'mean = {round(mean,2)}',f'median={round(median,2)}'])\n",
    "\n",
    "ax2 = plt.twinx()\n",
    "sns.histplot(income,ax=ax2).set(xlim=[0,500000])"
   ]
  },
  {
   "cell_type": "code",
   "execution_count": 26,
   "metadata": {},
   "outputs": [
    {
     "data": {
      "text/plain": [
       "\"Distribution is skewed right sample skewness is 4.95, Pearson's skewness is 0.736\""
      ]
     },
     "execution_count": 26,
     "metadata": {},
     "output_type": "execute_result"
    }
   ],
   "source": [
    "f\"Distribution is skewed right sample skewness is {Skewness(income)}, Pearson's skewness is {PearsonMedianSkewness(income)}\""
   ]
  },
  {
   "cell_type": "code",
   "execution_count": 27,
   "metadata": {},
   "outputs": [],
   "source": [
    "cdf_income = ECDF(income)"
   ]
  },
  {
   "cell_type": "code",
   "execution_count": 28,
   "metadata": {},
   "outputs": [
    {
     "data": {
      "text/plain": [
       "[Text(0.5, 0, 'income'), Text(0, 0.5, 'CDF')]"
      ]
     },
     "execution_count": 28,
     "metadata": {},
     "output_type": "execute_result"
    },
    {
     "data": {
      "image/png": "[encoded data removed]",
      "text/plain": [
       "<Figure size 432x288 with 1 Axes>"
      ]
     },
     "metadata": {
      "needs_background": "light"
     },
     "output_type": "display_data"
    }
   ],
   "source": [
    "xs = np.linspace(min(income),max(income),200)\n",
    "sns.lineplot(x=xs,y=cdf_income(xs)).set(xlabel='income',ylabel='CDF')"
   ]
  },
  {
   "cell_type": "code",
   "execution_count": 29,
   "metadata": {},
   "outputs": [
    {
     "data": {
      "text/plain": [
       "'66% of housholds have income below the mean'"
      ]
     },
     "execution_count": 29,
     "metadata": {},
     "output_type": "execute_result"
    }
   ],
   "source": [
    "f'{round(cdf_income(income.mean())*100)}% of housholds have income below the mean'"
   ]
  },
  {
   "cell_type": "markdown",
   "metadata": {},
   "source": [
    "# Relationships between variables"
   ]
  },
  {
   "cell_type": "code",
   "execution_count": 30,
   "metadata": {},
   "outputs": [],
   "source": [
    "def random_subset(df,nrows,replace=False):\n",
    "    indices = np.random.choice(df.index, nrows, replace=replace)\n",
    "    \n",
    "    return df.loc[indices]"
   ]
  },
  {
   "cell_type": "code",
   "execution_count": 31,
   "metadata": {},
   "outputs": [
    {
     "name": "stdout",
     "output_type": "stream",
     "text": [
      "<class 'pandas.core.frame.DataFrame'>\n",
      "RangeIndex: 414509 entries, 0 to 414508\n",
      "Data columns (total 6 columns):\n",
      " #   Column   Non-Null Count   Dtype  \n",
      "---  ------   --------------   -----  \n",
      " 0   age      410856 non-null  float64\n",
      " 1   sex      414509 non-null  int64  \n",
      " 2   wtyrago  390399 non-null  float64\n",
      " 3   finalwt  414509 non-null  float64\n",
      " 4   wtkg2    398484 non-null  float64\n",
      " 5   htm3     409129 non-null  float64\n",
      "dtypes: float64(5), int64(1)\n",
      "memory usage: 19.0 MB\n"
     ]
    }
   ],
   "source": [
    "brfss.info()"
   ]
  },
  {
   "cell_type": "code",
   "execution_count": 32,
   "metadata": {},
   "outputs": [],
   "source": [
    "brfss_sample = random_subset(brfss, 5000)"
   ]
  },
  {
   "cell_type": "code",
   "execution_count": 33,
   "metadata": {},
   "outputs": [
    {
     "name": "stdout",
     "output_type": "stream",
     "text": [
      "<class 'pandas.core.frame.DataFrame'>\n",
      "Int64Index: 5000 entries, 15280 to 30635\n",
      "Data columns (total 6 columns):\n",
      " #   Column   Non-Null Count  Dtype  \n",
      "---  ------   --------------  -----  \n",
      " 0   age      4963 non-null   float64\n",
      " 1   sex      5000 non-null   int64  \n",
      " 2   wtyrago  4733 non-null   float64\n",
      " 3   finalwt  5000 non-null   float64\n",
      " 4   wtkg2    4803 non-null   float64\n",
      " 5   htm3     4936 non-null   float64\n",
      "dtypes: float64(5), int64(1)\n",
      "memory usage: 273.4 KB\n"
     ]
    }
   ],
   "source": [
    "brfss_sample.info()"
   ]
  },
  {
   "cell_type": "markdown",
   "metadata": {},
   "source": [
    "## Scatter plots"
   ]
  },
  {
   "cell_type": "code",
   "execution_count": 34,
   "metadata": {},
   "outputs": [
    {
     "data": {
      "text/plain": [
       "[Text(0.5, 0, 'height, cm'), Text(0, 0.5, 'weight, kg')]"
      ]
     },
     "execution_count": 34,
     "metadata": {},
     "output_type": "execute_result"
    },
    {
     "data": {
      "image/png": "[encoded data removed]",
      "text/plain": [
       "<Figure size 432x288 with 1 Axes>"
      ]
     },
     "metadata": {
      "needs_background": "light"
     },
     "output_type": "display_data"
    }
   ],
   "source": [
    "sns.scatterplot(x=brfss_sample.htm3, y=brfss_sample.wtkg2).set(xlabel='height, cm',ylabel='weight, kg')"
   ]
  },
  {
   "cell_type": "markdown",
   "metadata": {},
   "source": [
    "#### avoiding columns\n",
    "arise because of rounding"
   ]
  },
  {
   "cell_type": "code",
   "execution_count": 35,
   "metadata": {},
   "outputs": [],
   "source": [
    "def Jitter(values,jitter=0.5):\n",
    "    uniform_shifts = np.random.uniform(-jitter, +jitter, len(values))\n",
    "    \n",
    "    return uniform_shifts + values"
   ]
  },
  {
   "cell_type": "code",
   "execution_count": 36,
   "metadata": {},
   "outputs": [
    {
     "data": {
      "text/plain": [
       "[Text(0.5, 0, 'height, cm'),\n",
       " Text(0, 0.5, 'weight, kg'),\n",
       " Text(0.5, 1.0, 'Jittered scatter plots of weight versus height.')]"
      ]
     },
     "execution_count": 36,
     "metadata": {},
     "output_type": "execute_result"
    },
    {
     "data": {
      "image/png": "[encoded data removed]",
      "text/plain": [
       "<Figure size 432x288 with 1 Axes>"
      ]
     },
     "metadata": {
      "needs_background": "light"
     },
     "output_type": "display_data"
    }
   ],
   "source": [
    "ax = sns.scatterplot(x=Jitter(brfss_sample.htm3,1.3), y=Jitter(brfss_sample.wtkg2,0.5))\n",
    "ax.set(xlabel='height, cm',ylabel='weight, kg', title='Jittered scatter plots of weight versus height.')"
   ]
  },
  {
   "cell_type": "markdown",
   "metadata": {},
   "source": [
    "#### avoiding saturation"
   ]
  },
  {
   "cell_type": "code",
   "execution_count": 37,
   "metadata": {},
   "outputs": [
    {
     "data": {
      "text/plain": [
       "<seaborn.axisgrid.JointGrid at 0x24c1f612e20>"
      ]
     },
     "execution_count": 37,
     "metadata": {},
     "output_type": "execute_result"
    },
    {
     "data": {
      "image/png": "[encoded data removed]",
      "text/plain": [
       "<Figure size 432x288 with 1 Axes>"
      ]
     },
     "metadata": {
      "needs_background": "light"
     },
     "output_type": "display_data"
    },
    {
     "data": {
      "image/png": "[encoded data removed]",
      "text/plain": [
       "<Figure size 432x432 with 3 Axes>"
      ]
     },
     "metadata": {
      "needs_background": "light"
     },
     "output_type": "display_data"
    }
   ],
   "source": [
    "sns.scatterplot(x=Jitter(brfss_sample.htm3, 1.3), y=Jitter(brfss_sample.wtkg2,0.5),alpha=0.1)\n",
    "sns.jointplot(x=Jitter(brfss_sample.htm3, 1.3), y=Jitter(brfss_sample.wtkg2,0.5),kind='hex')"
   ]
  },
  {
   "cell_type": "markdown",
   "metadata": {},
   "source": [
    "## Characterizing relationships\n",
    "\n",
    "One option is to bin one variable and plot percentiles of the other."
   ]
  },
  {
   "cell_type": "code",
   "execution_count": 38,
   "metadata": {},
   "outputs": [],
   "source": [
    "brfss = brfss.dropna(subset=['htm3','wtkg2'])"
   ]
  },
  {
   "cell_type": "code",
   "execution_count": 39,
   "metadata": {},
   "outputs": [],
   "source": [
    "bins=np.arange(135,210,5)\n",
    "indices = np.digitize(brfss.htm3, bins)\n",
    "groups = brfss.groupby(indices)"
   ]
  },
  {
   "cell_type": "code",
   "execution_count": 40,
   "metadata": {},
   "outputs": [
    {
     "name": "stdout",
     "output_type": "stream",
     "text": [
      "0 305\n",
      "1 228\n",
      "2 477\n",
      "3 2162\n",
      "4 18759\n",
      "5 45761\n",
      "6 70610\n",
      "7 72138\n",
      "8 61725\n",
      "9 49938\n",
      "10 43555\n",
      "11 20077\n",
      "12 7784\n",
      "13 1777\n",
      "14 405\n",
      "15 131\n"
     ]
    }
   ],
   "source": [
    "for i, group in groups:\n",
    "    print(i, len(group))\n",
    "#     print(group)    "
   ]
  },
  {
   "cell_type": "code",
   "execution_count": 41,
   "metadata": {},
   "outputs": [],
   "source": [
    "heights = []\n",
    "cdfs = []\n",
    "for i, group in groups:\n",
    "    heights.append(group.htm3.mean())\n",
    "    cdfs.append(ECDF(group.wtkg2))"
   ]
  },
  {
   "cell_type": "code",
   "execution_count": 42,
   "metadata": {},
   "outputs": [],
   "source": [
    "w_range = np.linspace(min(brfss_sample.wtkg2),max(brfss_sample.wtkg2),1001)"
   ]
  },
  {
   "cell_type": "code",
   "execution_count": 43,
   "metadata": {},
   "outputs": [
    {
     "data": {
      "text/plain": [
       "<matplotlib.legend.Legend at 0x24c1f049250>"
      ]
     },
     "execution_count": 43,
     "metadata": {},
     "output_type": "execute_result"
    },
    {
     "data": {
      "image/png": "[encoded data removed]",
      "text/plain": [
       "<Figure size 432x288 with 1 Axes>"
      ]
     },
     "metadata": {
      "needs_background": "light"
     },
     "output_type": "display_data"
    }
   ],
   "source": [
    "ax=sns.scatterplot(x=brfss_sample.htm3, y=brfss_sample.wtkg2)\n",
    "ax.set(xlabel='height, cm',ylabel='weight, kg',xlim=[120,210],ylim=[0,200],title='Percentiles of weight for a range of height bins.')\n",
    "\n",
    "colors = {25:'blue',50:'red',75:'black'}\n",
    "\n",
    "for percent in [25,50,75]:\n",
    "    weights = []\n",
    "    for cdf in cdfs:\n",
    "        ind = np.where(cdf(w_range) >= percent/100)[0]\n",
    "        \n",
    "        weights.append(w_range[ind[0]])\n",
    "        \n",
    "    sns.lineplot(x=heights, y=weights,color=colors[percent])\n",
    "    \n",
    "plt.legend([f\"{per}%\" for per in [25,50,75]])\n",
    "\n"
   ]
  },
  {
   "cell_type": "markdown",
   "metadata": {},
   "source": [
    "## Covariance\n",
    "\n",
    "a measure of the tendency of two variables to vary together."
   ]
  },
  {
   "cell_type": "code",
   "execution_count": 44,
   "metadata": {},
   "outputs": [],
   "source": [
    "def covariance(xs, ys):\n",
    "    xs = np.asarray(xs)\n",
    "    ys = np.asarray(ys)\n",
    "    \n",
    "    meanx = np.mean(xs)\n",
    "    meany = np.mean(ys)\n",
    "    \n",
    "    cov = np.dot(xs - meanx, ys - meany)/len(xs)\n",
    "    \n",
    "    return round(cov,2)"
   ]
  },
  {
   "cell_type": "code",
   "execution_count": 45,
   "metadata": {},
   "outputs": [
    {
     "data": {
      "text/plain": [
       "'The covariance of height and weight is 103.33 kg*cm'"
      ]
     },
     "execution_count": 45,
     "metadata": {},
     "output_type": "execute_result"
    }
   ],
   "source": [
    "f\"The covariance of height and weight is {covariance(brfss.htm3, brfss.wtkg2)} kg*cm\""
   ]
  },
  {
   "cell_type": "markdown",
   "metadata": {},
   "source": [
    "## Pearson’s correlation \n",
    "\n",
    " only measures linear relationships."
   ]
  },
  {
   "cell_type": "code",
   "execution_count": 46,
   "metadata": {},
   "outputs": [],
   "source": [
    "def correlation(xs,ys):\n",
    "    xs = np.asarray(xs)\n",
    "    ys = np.asarray(ys)\n",
    "    \n",
    "    meanx = np.mean(xs)\n",
    "    meany = np.mean(ys)\n",
    "    \n",
    "    stdx = np.std(xs)\n",
    "    stdy = np.std(ys)\n",
    "    \n",
    "    corr = covariance(xs,ys)/(stdx * stdy)\n",
    "    return round(corr,2)"
   ]
  },
  {
   "cell_type": "code",
   "execution_count": 47,
   "metadata": {},
   "outputs": [
    {
     "data": {
      "text/plain": [
       "\"The Pearsons's correlation of height and weight is 0.51\""
      ]
     },
     "execution_count": 47,
     "metadata": {},
     "output_type": "execute_result"
    }
   ],
   "source": [
    "f\"The Pearsons's correlation of height and weight is {correlation(brfss.htm3, brfss.wtkg2)}\""
   ]
  },
  {
   "cell_type": "markdown",
   "metadata": {},
   "source": [
    "## Spearman’s rank correlation \n",
    "\n",
    "is an alternative to Pearson's correlation that mitigates the effect of outliers and skewed distributions."
   ]
  },
  {
   "cell_type": "code",
   "execution_count": 48,
   "metadata": {},
   "outputs": [],
   "source": [
    "def Spearman_correlation(xs,ys):\n",
    "    xranks = pd.Series(xs).rank()\n",
    "    yranks = pd.Series(ys).rank()\n",
    "    \n",
    "    return correlation(xranks, yranks)"
   ]
  },
  {
   "cell_type": "code",
   "execution_count": 49,
   "metadata": {},
   "outputs": [
    {
     "data": {
      "text/plain": [
       "0.54"
      ]
     },
     "execution_count": 49,
     "metadata": {},
     "output_type": "execute_result"
    }
   ],
   "source": [
    "Spearman_correlation(brfss.htm3, brfss.wtkg2)"
   ]
  },
  {
   "cell_type": "markdown",
   "metadata": {},
   "source": [
    "The Spearman rank correlation for the BRFSS data is 0.54, a little higher than the Pearson correlation, 0.51. There are several possible reasons for the difference, including:\n",
    "\n",
    "If the relationship is nonlinear, Pearson’s correlation tends to underestimate the strength of the relationship, and\n",
    "Pearson’s correlation can be affected (in either direction) if one of the distributions is skewed or contains outliers. Spearman’s rank correlation is more robust.\n",
    "\n",
    "In the BRFSS example, we know that the distribution of weights is roughly lognormal; under a log transform it approximates a normal distribution, so it has no skew. So another way to eliminate the effect of skewness is to compute Pearson’s correlation with log-weight and height:"
   ]
  },
  {
   "cell_type": "code",
   "execution_count": 50,
   "metadata": {},
   "outputs": [
    {
     "data": {
      "text/plain": [
       "0.53"
      ]
     },
     "execution_count": 50,
     "metadata": {},
     "output_type": "execute_result"
    }
   ],
   "source": [
    "correlation(brfss.htm3, np.log(brfss.wtkg2))"
   ]
  },
  {
   "cell_type": "markdown",
   "metadata": {},
   "source": [
    "The result is 0.53, close to the rank correlation, 0.54. So that suggests that skewness in the distribution of weight explains most of the difference between Pearson’s and Spearman’s correlation."
   ]
  },
  {
   "cell_type": "markdown",
   "metadata": {},
   "source": [
    "## Exercise to chapter 7"
   ]
  },
  {
   "cell_type": "code",
   "execution_count": 51,
   "metadata": {},
   "outputs": [
    {
     "data": {
      "text/plain": [
       "[Text(0, 0.5, 'birth weight'), Text(0.5, 0, 'mother age')]"
      ]
     },
     "execution_count": 51,
     "metadata": {},
     "output_type": "execute_result"
    },
    {
     "data": {
      "image/png": "[encoded data removed]",
      "text/plain": [
       "<Figure size 432x288 with 1 Axes>"
      ]
     },
     "metadata": {
      "needs_background": "light"
     },
     "output_type": "display_data"
    }
   ],
   "source": [
    "sns.scatterplot(y=preg.totalwgt_lb, x=preg.agepreg).set(ylabel='birth weight',xlabel='mother age')"
   ]
  },
  {
   "cell_type": "code",
   "execution_count": 52,
   "metadata": {},
   "outputs": [],
   "source": [
    "preg_na = preg[preg.outcome==1].dropna(subset=['totalwgt_lb','agepreg'])\n",
    "bw = preg_na.totalwgt_lb\n",
    "mage = preg_na.agepreg"
   ]
  },
  {
   "cell_type": "code",
   "execution_count": 53,
   "metadata": {},
   "outputs": [],
   "source": [
    "bins = np.arange(10,48,3)\n",
    "indices = np.digitize(mage, bins)\n",
    "groups = preg_na.groupby(indices)"
   ]
  },
  {
   "cell_type": "code",
   "execution_count": 54,
   "metadata": {},
   "outputs": [
    {
     "name": "stdout",
     "output_type": "stream",
     "text": [
      "1 4\n",
      "2 180\n",
      "3 1169\n",
      "4 1824\n",
      "5 1695\n",
      "6 1505\n",
      "7 1223\n",
      "8 830\n",
      "9 402\n",
      "10 170\n",
      "11 34\n",
      "12 2\n"
     ]
    }
   ],
   "source": [
    "for i,group in groups:\n",
    "    print(i, len(group))"
   ]
  },
  {
   "cell_type": "code",
   "execution_count": 55,
   "metadata": {},
   "outputs": [],
   "source": [
    "ages = []\n",
    "cdfs = []\n",
    "\n",
    "for i,group in groups:\n",
    "    ages.append(group.agepreg.mean())\n",
    "    cdfs.append(ECDF(group.totalwgt_lb))"
   ]
  },
  {
   "cell_type": "code",
   "execution_count": 56,
   "metadata": {},
   "outputs": [
    {
     "data": {
      "text/plain": [
       "<matplotlib.legend.Legend at 0x24c1f330a30>"
      ]
     },
     "execution_count": 56,
     "metadata": {},
     "output_type": "execute_result"
    },
    {
     "data": {
      "image/png": "[encoded data removed]",
      "text/plain": [
       "<Figure size 432x288 with 1 Axes>"
      ]
     },
     "metadata": {
      "needs_background": "light"
     },
     "output_type": "display_data"
    }
   ],
   "source": [
    "w_range = np.linspace(0,20,2000)\n",
    "p_range = [75, 50, 25]\n",
    "\n",
    "for percent in p_range:\n",
    "    weights = []\n",
    "    \n",
    "    for cdf in cdfs:\n",
    "        inds = np.where(cdf(w_range)>= percent / 100)[0]\n",
    "        weights.append( w_range[inds[0]] )\n",
    "    \n",
    "    ax=sns.lineplot(x=ages, y=weights)\n",
    "\n",
    "ax.set(xlabel='ages',ylabel='weights',title='Percentiles of weight for a range of ages bins.')\n",
    "plt.legend([f\"{per}%\" for per in p_range])"
   ]
  },
  {
   "cell_type": "code",
   "execution_count": 57,
   "metadata": {},
   "outputs": [
    {
     "data": {
      "text/plain": [
       "\"Pearson's correlation is 0.07, Spearman's rank correlation is 0.09\""
      ]
     },
     "execution_count": 57,
     "metadata": {},
     "output_type": "execute_result"
    }
   ],
   "source": [
    "f\"Pearson's correlation is {correlation(bw, mage)}, Spearman's rank correlation is {Spearman_correlation(bw, mage)}\""
   ]
  },
  {
   "cell_type": "markdown",
   "metadata": {},
   "source": [
    "# Estimation"
   ]
  },
  {
   "cell_type": "code",
   "execution_count": 58,
   "metadata": {},
   "outputs": [],
   "source": [
    "xs = [-0.441, 1.774, -0.101, -1.138, 2.975, -2.138]"
   ]
  },
  {
   "cell_type": "code",
   "execution_count": 59,
   "metadata": {},
   "outputs": [
    {
     "data": {
      "text/plain": [
       "0.15516666666666667"
      ]
     },
     "execution_count": 59,
     "metadata": {},
     "output_type": "execute_result"
    }
   ],
   "source": [
    "np.mean(xs)"
   ]
  },
  {
   "cell_type": "code",
   "execution_count": 60,
   "metadata": {},
   "outputs": [],
   "source": [
    "xs_2 = [-0.441, 1.774, -0.101, -1.138, 2.975, -213.8]"
   ]
  },
  {
   "cell_type": "code",
   "execution_count": 61,
   "metadata": {},
   "outputs": [
    {
     "data": {
      "text/plain": [
       "(-35.121833333333335, -0.271)"
      ]
     },
     "execution_count": 61,
     "metadata": {},
     "output_type": "execute_result"
    }
   ],
   "source": [
    "np.mean(xs_2), np.median(xs_2)"
   ]
  },
  {
   "cell_type": "code",
   "execution_count": 62,
   "metadata": {},
   "outputs": [],
   "source": [
    "def RMSE(estimates, actual):\n",
    "    error2 = [(estimate - actual)**2 for estimate in estimates]\n",
    "    mse = np.mean(error2)\n",
    "    rmse = math.sqrt(mse)\n",
    "    \n",
    "    return round(rmse,2)"
   ]
  },
  {
   "cell_type": "code",
   "execution_count": 63,
   "metadata": {},
   "outputs": [],
   "source": [
    "def EstimateMean(n=7, m=1000):\n",
    "    # size of distrinution is n\n",
    "    # estimation was done m times\n",
    "    mu = 0\n",
    "    sigma =1\n",
    "    \n",
    "    means = []\n",
    "    medians = []\n",
    "    \n",
    "    for _ in range(m):\n",
    "        xs = [random.gauss(mu, sigma) for i in range(n)]\n",
    "       \n",
    "        means.append(np.mean(xs))\n",
    "        medians.append(np.median(xs))\n",
    "        \n",
    "    print('RMSE mean', round(RMSE(means, mu),3))\n",
    "    print('RMSE median', round(RMSE(medians,mu),3))"
   ]
  },
  {
   "cell_type": "code",
   "execution_count": 64,
   "metadata": {},
   "outputs": [
    {
     "name": "stdout",
     "output_type": "stream",
     "text": [
      "RMSE mean 0.37\n",
      "RMSE median 0.46\n"
     ]
    }
   ],
   "source": [
    "EstimateMean()"
   ]
  },
  {
   "cell_type": "code",
   "execution_count": 65,
   "metadata": {},
   "outputs": [],
   "source": [
    "def MeanError(estimates, actual):\n",
    "    error = [est-actual for est in estimates]\n",
    "    \n",
    "    return round(np.mean(error),3)"
   ]
  },
  {
   "cell_type": "code",
   "execution_count": 66,
   "metadata": {},
   "outputs": [],
   "source": [
    "def EstimateVariance(n=7, m=1000):\n",
    "    mu = 0\n",
    "    sigma = 1\n",
    "    \n",
    "    est1 = []\n",
    "    est2 = []\n",
    "    \n",
    "    for _ in range(m):\n",
    "        xs = [random.gauss(mu,sigma) for i in range(n)]\n",
    "        \n",
    "        biased = np.var(xs)\n",
    "        unbiased = np.var(xs, ddof=1)\n",
    "        \n",
    "        est1.append(biased)\n",
    "        est2.append(unbiased)\n",
    "        \n",
    "    print('mean error biased', MeanError(est1, sigma**2))\n",
    "    print('mean error unbiased', MeanError(est2, sigma**2))"
   ]
  },
  {
   "cell_type": "code",
   "execution_count": 67,
   "metadata": {},
   "outputs": [
    {
     "name": "stdout",
     "output_type": "stream",
     "text": [
      "mean error biased -0.138\n",
      "mean error unbiased 0.006\n"
     ]
    }
   ],
   "source": [
    "EstimateVariance()"
   ]
  },
  {
   "cell_type": "markdown",
   "metadata": {},
   "source": [
    "## Sampling distributions\n",
    "\n",
    "sampling error - variation in the estimate caused by random selection, error due to measuring only part of the population. \n",
    "\n",
    "**sampling distribution** is used to quantify sampling error: we simulate the sampling process with hypothetical values of µ and σ, and see how much x varies. The sampling distribution gives you a sense of how reliable an estimate is by telling you how much it would vary if you ran the experiment again. The sampling distribution does not account for other sources of error, notably sampling bias and measurement error.\n",
    "\n",
    "**Confidence interval** and **standart error** are used to characterised x variance.\n",
    "\n"
   ]
  },
  {
   "cell_type": "code",
   "execution_count": 68,
   "metadata": {},
   "outputs": [],
   "source": [
    "def SimulateSample(mu=90,sigma=7.5, n=9, m=1000):\n",
    "    # mu and sigma are the hypothetical values of the parameters. \n",
    "    # n is the sample size, \n",
    "    # m is the number of times we run the simulation.\n",
    "    \n",
    "    means = []\n",
    "    \n",
    "    for j in range(m):\n",
    "        xs = np.random.normal(mu, sigma, n)\n",
    "        means.append( np.mean(xs) )\n",
    "        \n",
    "    xarr = np.linspace(mu-2*sigma, mu+2*sigma,200)\n",
    "    \n",
    "    mean_cdf =ECDF(means)\n",
    "    percentile_5 = xarr[np.where(mean_cdf(xarr)>=0.05)[0][0]]\n",
    "    percentile_95 = xarr[np.where(mean_cdf(xarr)>=0.95)[0][0]]\n",
    "    \n",
    "       \n",
    "    ax = sns.lineplot(x=xarr, y=mean_cdf(xarr))\n",
    "    ax.set(title='Sampling distribution',xlabel='sample mean',ylabel='cdf')\n",
    "    \n",
    "    plt.axvline(percentile_5, 0, 1,color='gray')\n",
    "    plt.axvline(percentile_95, 0, 1,color='gray')\n",
    "    \n",
    "    stderr = RMSE(means, mu)                \n",
    "    \n",
    "    print(f\"mean = {mu} with 90% confidence interval [{round(percentile_5)},{round(percentile_95)}]\\nstandart error of mean is {stderr}\")"
   ]
  },
  {
   "cell_type": "code",
   "execution_count": 69,
   "metadata": {},
   "outputs": [
    {
     "name": "stdout",
     "output_type": "stream",
     "text": [
      "mean = 90 with 90% confidence interval [86,94]\n",
      "standart error of mean is 2.52\n"
     ]
    },
    {
     "data": {
      "image/png": "[encoded data removed]",
      "text/plain": [
       "<Figure size 432x288 with 1 Axes>"
      ]
     },
     "metadata": {
      "needs_background": "light"
     },
     "output_type": "display_data"
    }
   ],
   "source": [
    "SimulateSample()"
   ]
  },
  {
   "cell_type": "markdown",
   "metadata": {},
   "source": [
    "### Sampling bias\n",
    "**Sampling bias**  are due to not really random process of sample selection.\n",
    "\n",
    "For example, telephone sampling: \n",
    "the sample is limited to people whose telephone numbers are listed, so it eliminates people without phones (who might be poorer than average) and people with unlisted numbers (who might be richer). Also, if you call home telephones during the day, you are less likely to sample people with jobs."
   ]
  },
  {
   "cell_type": "markdown",
   "metadata": {},
   "source": [
    "### Measurement error\n",
    "\n",
    "rounding up or down, not honest answers of respondets ..."
   ]
  },
  {
   "cell_type": "markdown",
   "metadata": {},
   "source": [
    "## Estimators for exponential distribution"
   ]
  },
  {
   "cell_type": "code",
   "execution_count": 70,
   "metadata": {},
   "outputs": [],
   "source": [
    "def EstimateExp(n=7, m=1000):\n",
    "    lam = 2\n",
    "    \n",
    "    means = []\n",
    "    medians = []\n",
    "    \n",
    "    for _ in range(m):\n",
    "        xs = np.random.exponential(1/lam, n)\n",
    "        L = 1/np.mean(xs)\n",
    "        Lmedian = math.log(2) / np.median(xs)\n",
    "        \n",
    "        means.append(L)\n",
    "        medians.append(Lmedian)\n",
    "        \n",
    "    print('rmse L', RMSE(means, lam))\n",
    "    print('rmse Lm', RMSE(medians, lam))\n",
    "    print('mean error L', MeanError(means, lam))\n",
    "    print('mean error Lm', MeanError(medians, lam))"
   ]
  },
  {
   "cell_type": "code",
   "execution_count": 71,
   "metadata": {},
   "outputs": [
    {
     "name": "stdout",
     "output_type": "stream",
     "text": [
      "rmse L 1.06\n",
      "rmse Lm 1.57\n",
      "mean error L 0.345\n",
      "mean error Lm 0.434\n"
     ]
    }
   ],
   "source": [
    "EstimateExp(m=1000)"
   ]
  },
  {
   "cell_type": "code",
   "execution_count": 72,
   "metadata": {},
   "outputs": [
    {
     "name": "stdout",
     "output_type": "stream",
     "text": [
      "rmse L 1.08\n",
      "rmse Lm 1.74\n",
      "mean error L 0.327\n",
      "mean error Lm 0.453\n"
     ]
    }
   ],
   "source": [
    "EstimateExp(m=10000)"
   ]
  },
  {
   "cell_type": "code",
   "execution_count": 73,
   "metadata": {},
   "outputs": [
    {
     "name": "stdout",
     "output_type": "stream",
     "text": [
      "rmse L 1.09\n",
      "rmse Lm 1.79\n",
      "mean error L 0.335\n",
      "mean error Lm 0.455\n"
     ]
    }
   ],
   "source": [
    "EstimateExp(m=100000)"
   ]
  },
  {
   "cell_type": "markdown",
   "metadata": {},
   "source": [
    "## Exercises to chapter 8"
   ]
  },
  {
   "cell_type": "markdown",
   "metadata": {},
   "source": [
    "### Exercise 1  "
   ]
  },
  {
   "cell_type": "code",
   "execution_count": 74,
   "metadata": {},
   "outputs": [],
   "source": [
    "def EstimateMeanAndVar(n=10, m=1000):\n",
    "    mu = 0\n",
    "    sigma = 1\n",
    "    \n",
    "    means = []\n",
    "    medians = []\n",
    "    \n",
    "    var_biased = []\n",
    "    var_unbiased = []\n",
    "    \n",
    "    for _ in range(m):\n",
    "        xs = np.random.normal(mu, sigma, n)\n",
    "        \n",
    "        means.append(np.mean(xs))\n",
    "        medians.append(np.median(xs))\n",
    "        \n",
    "        var_biased.append(np.var(xs))\n",
    "        var_unbiased.append(np.var(xs, ddof=1))\n",
    "        \n",
    "    print(f\"mean estimation: mean error = {MeanError(means, mu)}, rmse = {RMSE(means, mu)}\")\n",
    "    print(f\"median estimation: mean error = {MeanError(medians, mu)}, rmse = {RMSE(medians, mu)}\")\n",
    "    print('  => Median is unbiased estimation of mu.')\n",
    "    print()\n",
    "    print(f\"biased variance etimation: mean error = {MeanError(var_biased, sigma**2)}, rmse = {RMSE(var_biased, sigma**2)}\")\n",
    "    print(f\"unbiased variance etimation: mean error = {MeanError(var_unbiased, sigma**2)}, rmse = {RMSE(var_unbiased, sigma**2)}\")\n",
    "    print('  => Unbiased variance is unbiased estimation of sigma.')"
   ]
  },
  {
   "cell_type": "code",
   "execution_count": 75,
   "metadata": {},
   "outputs": [
    {
     "name": "stdout",
     "output_type": "stream",
     "text": [
      "mean estimation: mean error = 0.004, rmse = 0.31\n",
      "median estimation: mean error = 0.007, rmse = 0.36\n",
      "  => Median is unbiased estimation of mu.\n",
      "\n",
      "biased variance etimation: mean error = -0.106, rmse = 0.44\n",
      "unbiased variance etimation: mean error = -0.007, rmse = 0.48\n",
      "  => Unbiased variance is unbiased estimation of sigma.\n"
     ]
    }
   ],
   "source": [
    "EstimateMeanAndVar()"
   ]
  },
  {
   "cell_type": "markdown",
   "metadata": {},
   "source": [
    "### Exercise 2"
   ]
  },
  {
   "cell_type": "code",
   "execution_count": 76,
   "metadata": {},
   "outputs": [
    {
     "data": {
      "text/plain": [
       "[Text(0, 0.5, 'standart error'), Text(0.5, 0, 'sample size')]"
      ]
     },
     "execution_count": 76,
     "metadata": {},
     "output_type": "execute_result"
    },
    {
     "data": {
      "image/png": "[encoded data removed]",
      "text/plain": [
       "<Figure size 864x432 with 2 Axes>"
      ]
     },
     "metadata": {
      "needs_background": "light"
     },
     "output_type": "display_data"
    }
   ],
   "source": [
    "lam = 2\n",
    "L = []\n",
    "\n",
    "std_errors = []\n",
    "\n",
    "fig, ax = plt.subplots(figsize=[12,6],nrows=1, ncols=2)\n",
    "for n in range(10,100,10):\n",
    "    for _ in range(1000):\n",
    "        xs = np.random.exponential(1/lam, n)\n",
    "        L.append( 1/np.mean(xs) )\n",
    "\n",
    "    cdf_L = ECDF(L)\n",
    "\n",
    "    x_arr = np.linspace(0,5,200)\n",
    "\n",
    "    sns.lineplot(x=x_arr, y=cdf_L(x_arr),ax=ax[0])\n",
    "    \n",
    "\n",
    "    ci_l = x_arr[np.where(cdf_L(x_arr)>=0.05)[0][0]]\n",
    "    ci_u = x_arr[np.where(cdf_L(x_arr)>=0.95)[0][0]]\n",
    "\n",
    "    ax[0].axvline(ci_l, 0,1)\n",
    "    ax[0].axvline(ci_u, 0, 1)\n",
    "\n",
    "    std_error = RMSE(L, lam)\n",
    "    std_errors.append(std_error)\n",
    "    \n",
    "ax[0].set(title='Sampling distribution of L estimate', xlabel='L', ylabel='cdf')\n",
    "\n",
    "# print(f'standart error is {std_error}')\n",
    "ax[1] = sns.scatterplot(x=np.linspace(10,100,9), y=std_errors)\n",
    "ax[1].set(ylabel='standart error', xlabel='sample size')"
   ]
  },
  {
   "cell_type": "markdown",
   "metadata": {},
   "source": [
    "### Exercise 3"
   ]
  },
  {
   "cell_type": "code",
   "execution_count": 77,
   "metadata": {},
   "outputs": [],
   "source": [
    "def game_sim(goals_per_game=10):\n",
    "    goals = 0\n",
    "    total_time = 0\n",
    "    \n",
    "    while total_time < 1: \n",
    "        x = np.random.exponential(1/goals_per_game)\n",
    "        total_time += x\n",
    "        goals += 1\n",
    "    \n",
    "    return goals"
   ]
  },
  {
   "cell_type": "code",
   "execution_count": 78,
   "metadata": {},
   "outputs": [
    {
     "data": {
      "text/plain": [
       "10"
      ]
     },
     "execution_count": 78,
     "metadata": {},
     "output_type": "execute_result"
    }
   ],
   "source": [
    "game_sim()"
   ]
  },
  {
   "cell_type": "code",
   "execution_count": 79,
   "metadata": {},
   "outputs": [],
   "source": [
    "def repeat_game(goals_per_game=10):\n",
    "    goals = []\n",
    "    \n",
    "    for _ in range(0,1000):\n",
    "        goals.append(game_sim(goals_per_game))\n",
    "        \n",
    "    print(f\"mean error of goals estimation is {MeanError(goals, goals_per_game)}\")\n",
    "    print(f\"standart error (RMSE) of goals estimation is {RMSE(goals, goals_per_game)}\")\n",
    "    \n",
    "    cdf_goals = ECDF(goals)\n",
    "    x_arr = np.linspace(0, 3*goals_per_game,1000)\n",
    "    \n",
    "    ax = sns.lineplot(x=x_arr, y=cdf_goals(x_arr))\n",
    "    ax.set(ylabel='cdf',xlabel='estimation of goals per game')\n",
    "    \n",
    "    ci_l = x_arr[np.where(cdf_goals(x_arr) >= 0.05)[0][0]]\n",
    "    ci_u = x_arr[np.where(cdf_goals(x_arr) >= 0.95)[0][0]]\n",
    "    \n",
    "    ax.axvline(ci_l,0,1,color='black')\n",
    "    ax.axvline(ci_u,0,1,color='black')\n",
    "    \n",
    "    print(f'90% confidence interval is [{round(ci_l)},{round(ci_u)}]')\n",
    "    plt.legend(['cdf','confidence interval'])"
   ]
  },
  {
   "cell_type": "code",
   "execution_count": 80,
   "metadata": {},
   "outputs": [
    {
     "name": "stdout",
     "output_type": "stream",
     "text": [
      "mean error of goals estimation is 1.183\n",
      "standart error (RMSE) of goals estimation is 3.43\n",
      "90% confidence interval is [6,17]\n"
     ]
    },
    {
     "data": {
      "image/png": "[encoded data removed]",
      "text/plain": [
       "<Figure size 432x288 with 1 Axes>"
      ]
     },
     "metadata": {
      "needs_background": "light"
     },
     "output_type": "display_data"
    }
   ],
   "source": [
    "repeat_game()"
   ]
  },
  {
   "cell_type": "markdown",
   "metadata": {},
   "source": [
    "# Hypothesis testing\n",
    "\n",
    "is effect statistically significant?"
   ]
  },
  {
   "cell_type": "code",
   "execution_count": 81,
   "metadata": {},
   "outputs": [
    {
     "data": {
      "text/plain": [
       "30"
      ]
     },
     "execution_count": 81,
     "metadata": {},
     "output_type": "execute_result"
    }
   ],
   "source": [
    "heads = 140\n",
    "tails = 110\n",
    "\n",
    "test_stat = abs(heads-tails)\n",
    "test_stat"
   ]
  },
  {
   "cell_type": "code",
   "execution_count": 82,
   "metadata": {},
   "outputs": [],
   "source": [
    "def coin_toss(heads, tails):\n",
    "    # simualte coin tosses\n",
    "    n = heads + tails\n",
    "    sample = [random.choice('HT') for _ in range(n)]\n",
    "\n",
    "#     sns.histplot(sample)\n",
    "    vals, counts = np.unique(sample,return_counts=True)\n",
    "    head_sample = counts[0]\n",
    "    tail_sample = counts[1]\n",
    "    \n",
    "    return abs(head_sample - tail_sample)"
   ]
  },
  {
   "cell_type": "code",
   "execution_count": 83,
   "metadata": {},
   "outputs": [
    {
     "data": {
      "text/plain": [
       "2"
      ]
     },
     "execution_count": 83,
     "metadata": {},
     "output_type": "execute_result"
    }
   ],
   "source": [
    "coin_toss(heads, tails)"
   ]
  },
  {
   "cell_type": "code",
   "execution_count": 84,
   "metadata": {},
   "outputs": [
    {
     "name": "stdout",
     "output_type": "stream",
     "text": [
      "p value is 0.038\n"
     ]
    },
    {
     "data": {
      "text/plain": [
       "<AxesSubplot:ylabel='Count'>"
      ]
     },
     "execution_count": 84,
     "metadata": {},
     "output_type": "execute_result"
    },
    {
     "data": {
      "image/png": "[encoded data removed]",
      "text/plain": [
       "<Figure size 432x288 with 1 Axes>"
      ]
     },
     "metadata": {
      "needs_background": "light"
     },
     "output_type": "display_data"
    }
   ],
   "source": [
    "statistic = []\n",
    "for _ in range(1000):\n",
    "    statistic.append( coin_toss(heads, tails) )\n",
    "\n",
    "cdf_dist = ECDF(statistic)\n",
    "\n",
    "p_value = 1 - cdf_dist(test_stat)\n",
    "print(f\"p value is {round(p_value,3)}\")\n",
    "\n",
    "sns.histplot(statistic)"
   ]
  },
  {
   "cell_type": "markdown",
   "metadata": {},
   "source": [
    "## Testing a difference in pregnancy length for first and others babies's "
   ]
  },
  {
   "cell_type": "markdown",
   "metadata": {},
   "source": [
    "### two-sided"
   ]
  },
  {
   "cell_type": "code",
   "execution_count": 85,
   "metadata": {},
   "outputs": [],
   "source": [
    "firsts = preg[(preg.outcome==1) & (preg.birthord == 1)]\n",
    "others = preg[(preg.outcome==1) & (preg.birthord != 1)]"
   ]
  },
  {
   "cell_type": "code",
   "execution_count": 86,
   "metadata": {},
   "outputs": [],
   "source": [
    "firsts = firsts[firsts.prglngth.isna()==False]\n",
    "others = others[others.prglngth.isna()==False]"
   ]
  },
  {
   "cell_type": "code",
   "execution_count": 87,
   "metadata": {},
   "outputs": [],
   "source": [
    "statistic = abs(firsts.prglngth.mean() - others.prglngth.mean())"
   ]
  },
  {
   "cell_type": "code",
   "execution_count": 88,
   "metadata": {},
   "outputs": [
    {
     "name": "stdout",
     "output_type": "stream",
     "text": [
      "p value is 0.157\n"
     ]
    },
    {
     "data": {
      "text/plain": [
       "<matplotlib.lines.Line2D at 0x24c1ec2ee50>"
      ]
     },
     "execution_count": 88,
     "metadata": {},
     "output_type": "execute_result"
    },
    {
     "data": {
      "image/png": "[encoded data removed]",
      "text/plain": [
       "<Figure size 432x288 with 1 Axes>"
      ]
     },
     "metadata": {
      "needs_background": "light"
     },
     "output_type": "display_data"
    }
   ],
   "source": [
    "pool = np.hstack((firsts.prglngth.values, others.prglngth.values))\n",
    "\n",
    "firsts_len = len(firsts.prglngth)\n",
    "others_len = len(others.prglngth)\n",
    "\n",
    "statistic_distribution = []\n",
    "for __ in range(1000):\n",
    "    sample_1 = [np.random.choice(pool,replace=True) for _ in range(firsts_len)]\n",
    "    sample_2 = [np.random.choice(pool,replace=True) for _ in range(others_len)]\n",
    "    \n",
    "    statistic_distribution.append(abs(np.mean(sample_1) - np.mean(sample_2)))\n",
    "\n",
    "stat_dist_cdf = ECDF(statistic_distribution)\n",
    "p_value = 1 - stat_dist_cdf(statistic)\n",
    "\n",
    "print(f'p value is {round(p_value,3)}')\n",
    "\n",
    "x_arr = np.linspace(0,max(statistic_distribution),100)\n",
    "ax = sns.lineplot(x=x_arr, y=stat_dist_cdf(x_arr))\n",
    "ax.set(title='CDF of difference in mean pregnancy length under the null hypothesis',\n",
    "      xlabel='difference in means (weeks)', ylabel='cdf')\n",
    "plt.axvline(statistic, 0 ,1, color='gray')"
   ]
  },
  {
   "cell_type": "markdown",
   "metadata": {},
   "source": [
    "=> So this effect is not statistically significant."
   ]
  },
  {
   "cell_type": "markdown",
   "metadata": {},
   "source": [
    "### one-sided"
   ]
  },
  {
   "cell_type": "code",
   "execution_count": 89,
   "metadata": {},
   "outputs": [
    {
     "data": {
      "text/plain": [
       "0.07803726677754952"
      ]
     },
     "execution_count": 89,
     "metadata": {},
     "output_type": "execute_result"
    }
   ],
   "source": [
    "statistic = firsts.prglngth.mean() - others.prglngth.mean()\n",
    "statistic"
   ]
  },
  {
   "cell_type": "code",
   "execution_count": 90,
   "metadata": {},
   "outputs": [
    {
     "name": "stdout",
     "output_type": "stream",
     "text": [
      "p value is 0.081\n"
     ]
    },
    {
     "data": {
      "text/plain": [
       "<matplotlib.lines.Line2D at 0x24c1ec90b50>"
      ]
     },
     "execution_count": 90,
     "metadata": {},
     "output_type": "execute_result"
    },
    {
     "data": {
      "image/png": "[encoded data removed]",
      "text/plain": [
       "<Figure size 432x288 with 1 Axes>"
      ]
     },
     "metadata": {
      "needs_background": "light"
     },
     "output_type": "display_data"
    }
   ],
   "source": [
    "pool = np.hstack((firsts.prglngth.values, others.prglngth.values))\n",
    "\n",
    "firsts_len = len(firsts.prglngth)\n",
    "others_len = len(others.prglngth)\n",
    "\n",
    "statistic_distribution = []\n",
    "for __ in range(1000):\n",
    "    sample_1 = [np.random.choice(pool,replace=True) for _ in range(firsts_len)]\n",
    "    sample_2 = [np.random.choice(pool,replace=True) for _ in range(others_len)]\n",
    "    \n",
    "    statistic_distribution.append(np.mean(sample_1) - np.mean(sample_2))\n",
    "\n",
    "stat_dist_cdf = ECDF(statistic_distribution)\n",
    "p_value = 1 - stat_dist_cdf(statistic)\n",
    "\n",
    "print(f'p value is {round(p_value,3)}')\n",
    "\n",
    "x_arr = np.linspace(0,max(statistic_distribution),100)\n",
    "ax = sns.lineplot(x=x_arr, y=stat_dist_cdf(x_arr))\n",
    "ax.set(title='CDF of difference in mean pregnancy length under the null hypothesis',\n",
    "      xlabel='difference in means (weeks)', ylabel='cdf')\n",
    "plt.axvline(statistic, 0 ,1, color='gray')"
   ]
  },
  {
   "cell_type": "markdown",
   "metadata": {},
   "source": [
    "## Testing a difference in birth weight for first and others babies's "
   ]
  },
  {
   "cell_type": "code",
   "execution_count": 91,
   "metadata": {},
   "outputs": [],
   "source": [
    "firsts = firsts[firsts.totalwgt_lb.isna()==False]\n",
    "others = others[others.totalwgt_lb.isna()==False]"
   ]
  },
  {
   "cell_type": "code",
   "execution_count": 92,
   "metadata": {},
   "outputs": [
    {
     "data": {
      "text/plain": [
       "0.12476118453549034"
      ]
     },
     "execution_count": 92,
     "metadata": {},
     "output_type": "execute_result"
    }
   ],
   "source": [
    "statistic = abs(firsts.totalwgt_lb.mean() - others.totalwgt_lb.mean())\n",
    "statistic"
   ]
  },
  {
   "cell_type": "code",
   "execution_count": 93,
   "metadata": {},
   "outputs": [
    {
     "name": "stdout",
     "output_type": "stream",
     "text": [
      "p value is 0.0\n"
     ]
    },
    {
     "data": {
      "text/plain": [
       "<matplotlib.lines.Line2D at 0x24c1ecf28b0>"
      ]
     },
     "execution_count": 93,
     "metadata": {},
     "output_type": "execute_result"
    },
    {
     "data": {
      "image/png": "[encoded data removed]",
      "text/plain": [
       "<Figure size 432x288 with 1 Axes>"
      ]
     },
     "metadata": {
      "needs_background": "light"
     },
     "output_type": "display_data"
    }
   ],
   "source": [
    "pool = np.hstack( (firsts.totalwgt_lb.values,others.totalwgt_lb.values) )\n",
    "\n",
    "statistic_dist = []\n",
    "\n",
    "for _ in range(100):\n",
    "    sample_1 = [np.random.choice(pool, replace=True) for __ in range( len(firsts.totalwgt_lb) )]\n",
    "    sample_2 = [np.random.choice(pool, replace=True) for __ in range( len(others.totalwgt_lb) )]\n",
    "    \n",
    "    statistic_dist.append( abs(np.mean(sample_1) - np.mean(sample_2)) )\n",
    "\n",
    "statistic_dist_cdf = ECDF(statistic_dist)\n",
    "p_value = 1 - statistic_dist_cdf(statistic)\n",
    "print(f\"p value is {p_value}\")\n",
    "\n",
    "x_arr = np.linspace(0,max(statistic_dist),100)\n",
    "ax = sns.lineplot(x=x_arr, y=statistic_dist_cdf(x_arr))\n",
    "ax.set(title='CDF of difference in mean birth weight under the null hypothesis',\n",
    "      xlabel='difference in means (lb)', ylabel='cdf')\n",
    "\n",
    "plt.axvline(statistic,0,1,color='gray')"
   ]
  },
  {
   "cell_type": "markdown",
   "metadata": {},
   "source": [
    "## Test a correlation between mother’s age and birth weight"
   ]
  },
  {
   "cell_type": "code",
   "execution_count": 94,
   "metadata": {},
   "outputs": [],
   "source": [
    "preg_tmp = preg.dropna(subset=['agepreg','totalwgt_lb'])\n",
    "live = preg_tmp[(preg_tmp.outcome==1)]"
   ]
  },
  {
   "cell_type": "code",
   "execution_count": 95,
   "metadata": {},
   "outputs": [],
   "source": [
    "statistic = correlation(live.agepreg,live.totalwgt_lb)"
   ]
  },
  {
   "cell_type": "code",
   "execution_count": 96,
   "metadata": {},
   "outputs": [
    {
     "name": "stdout",
     "output_type": "stream",
     "text": [
      "p value is 0.0\n",
      "p value obtained using cdf is 0.0\n"
     ]
    },
    {
     "data": {
      "text/plain": [
       "<matplotlib.lines.Line2D at 0x24c1c7e05b0>"
      ]
     },
     "execution_count": 96,
     "metadata": {},
     "output_type": "execute_result"
    },
    {
     "data": {
      "image/png": "[encoded data removed]",
      "text/plain": [
       "<Figure size 432x288 with 1 Axes>"
      ]
     },
     "metadata": {
      "needs_background": "light"
     },
     "output_type": "display_data"
    }
   ],
   "source": [
    "iters = 1000\n",
    "counter = 0\n",
    "\n",
    "stat_dist = []\n",
    "for _ in range(iters):\n",
    "    sample_age = [np.random.choice(live.agepreg, replace=True) for __ in range(len(live.agepreg))]\n",
    "    sample_weight = [np.random.choice(live.totalwgt_lb, replace=True) for __ in range(len(live.totalwgt_lb))]\n",
    "    \n",
    "    sample_stat = correlation(sample_age, sample_weight)\n",
    "    \n",
    "    if sample_stat >= statistic:\n",
    "        counter += 1\n",
    "    \n",
    "    stat_dist.append(sample_stat)\n",
    "    \n",
    "cdf_stat = ECDF(stat_dist)\n",
    "\n",
    "p_value = counter / iters\n",
    "print(f\"p value is {p_value}\")\n",
    "print(f\"p value obtained using cdf is {round(1-cdf_stat(statistic),3)}\")\n",
    "\n",
    "x_arr = np.linspace(0,max(stat_dist),500)\n",
    "ax = sns.lineplot(x=x_arr, y=cdf_stat(x_arr))\n",
    "ax.set(title=\"CDF of correlation between n=mother's age and birth weight\",\n",
    "      xlabel='correlation coefficient', ylabel='cdf')\n",
    "\n",
    "plt.axvline(statistic,0,1,color='gray')"
   ]
  },
  {
   "cell_type": "markdown",
   "metadata": {},
   "source": [
    "=>  So although the observed correlation is small, it is statistically significant.\n",
    "\n",
    "This example is a reminder that “statistically significant” does not always mean that an effect is important, or significant in practice. It only means that it is unlikely to have occurred by chance."
   ]
  },
  {
   "cell_type": "markdown",
   "metadata": {},
   "source": [
    "##  Testing proportions (example with die)"
   ]
  },
  {
   "cell_type": "code",
   "execution_count": 97,
   "metadata": {},
   "outputs": [],
   "source": [
    "die_value = [1,2,3,4,5,6]\n",
    "observed = [8, 9, 19, 5, 8, 11] # observed frequency"
   ]
  },
  {
   "cell_type": "code",
   "execution_count": 98,
   "metadata": {},
   "outputs": [
    {
     "name": "stdout",
     "output_type": "stream",
     "text": [
      "p value is 0.1306\n"
     ]
    }
   ],
   "source": [
    "total_rolls = sum(observed)\n",
    "\n",
    "expected  = np.ones(6) * total_rolls / 6\n",
    "test_statistic = sum( abs(observed - expected) )\n",
    "\n",
    "counter = 0\n",
    "\n",
    "for _ in range(10000):\n",
    "    sample = np.random.choice([1,2,3,4,5,6], size=total_rolls, replace=True)\n",
    "    vals, counts = np.unique(sample, return_counts=True)\n",
    "    \n",
    "    expected = np.ones(len(counts)) * total_rolls / len(counts)\n",
    "    \n",
    "    sample_stat = sum(abs(counts - expected))\n",
    "    if  sample_stat >= test_statistic:\n",
    "        counter += 1\n",
    "\n",
    "p_value = counter / 10000\n",
    "\n",
    "print(f\"p value is {p_value}\")"
   ]
  },
  {
   "attachments": {
    "image.png": {
     "image/png": "[encoded data removed]"
    }
   },
   "cell_type": "markdown",
   "metadata": {},
   "source": [
    "# Chi-squared tests\n",
    "\n",
    "![image.png](attachment:image.png)"
   ]
  },
  {
   "cell_type": "code",
   "execution_count": 99,
   "metadata": {},
   "outputs": [
    {
     "ename": "NameError",
     "evalue": "name 'freq' is not defined",
     "output_type": "error",
     "traceback": [
      "\u001b[1;31m---------------------------------------------------------------------------\u001b[0m",
      "\u001b[1;31mNameError\u001b[0m                                 Traceback (most recent call last)",
      "\u001b[1;32m<ipython-input-99-6395651ff7df>\u001b[0m in \u001b[0;36m<module>\u001b[1;34m\u001b[0m\n\u001b[1;32m----> 1\u001b[1;33m \u001b[0mtotal_rolls\u001b[0m \u001b[1;33m=\u001b[0m \u001b[0msum\u001b[0m\u001b[1;33m(\u001b[0m\u001b[0mfreq\u001b[0m\u001b[1;33m)\u001b[0m\u001b[1;33m\u001b[0m\u001b[1;33m\u001b[0m\u001b[0m\n\u001b[0m\u001b[0;32m      2\u001b[0m \u001b[1;33m\u001b[0m\u001b[0m\n\u001b[0;32m      3\u001b[0m \u001b[0mexpected\u001b[0m  \u001b[1;33m=\u001b[0m \u001b[0mnp\u001b[0m\u001b[1;33m.\u001b[0m\u001b[0mones\u001b[0m\u001b[1;33m(\u001b[0m\u001b[1;36m6\u001b[0m\u001b[1;33m)\u001b[0m \u001b[1;33m*\u001b[0m \u001b[0mtotal_rolls\u001b[0m \u001b[1;33m/\u001b[0m \u001b[1;36m6\u001b[0m\u001b[1;33m\u001b[0m\u001b[1;33m\u001b[0m\u001b[0m\n\u001b[0;32m      4\u001b[0m \u001b[0mtest_statistic\u001b[0m \u001b[1;33m=\u001b[0m \u001b[0msum\u001b[0m\u001b[1;33m(\u001b[0m \u001b[1;33m(\u001b[0m\u001b[0mfreq\u001b[0m \u001b[1;33m-\u001b[0m \u001b[0mexpected\u001b[0m\u001b[1;33m)\u001b[0m\u001b[1;33m**\u001b[0m\u001b[1;36m2\u001b[0m \u001b[1;33m/\u001b[0m \u001b[0mexpected\u001b[0m \u001b[1;33m)\u001b[0m\u001b[1;33m\u001b[0m\u001b[1;33m\u001b[0m\u001b[0m\n\u001b[0;32m      5\u001b[0m \u001b[1;33m\u001b[0m\u001b[0m\n",
      "\u001b[1;31mNameError\u001b[0m: name 'freq' is not defined"
     ]
    }
   ],
   "source": [
    "total_rolls = sum(freq)\n",
    "\n",
    "expected  = np.ones(6) * total_rolls / 6\n",
    "test_statistic = sum( (freq - expected)**2 / expected )\n",
    "\n",
    "print(f'test statistic - chi-sqaure = {test_statistic}')\n",
    "\n",
    "# simulaion of rolling\n",
    "iters = 1000\n",
    "counter = 0\n",
    "for _ in range(iters):\n",
    "    sample = np.random.choice([1,2,3,4,5,6], total_rolls, replace=True)\n",
    "    vals, counts = np.unique(sample, return_counts=True)\n",
    "        \n",
    "    sample_stat = sum( (counts - expected)**2 / expected ) \n",
    "    \n",
    "    if sample_stat >= test_statistic:\n",
    "        counter += 1\n",
    "    \n",
    "# calculation of p-value\n",
    "p_value = counter / iters\n",
    "\n",
    "print(f\"p value is {round(p_value,3)}\")"
   ]
  },
  {
   "cell_type": "markdown",
   "metadata": {},
   "source": [
    "the p-value depends on the choice of test statistic and the model of the null hypothesis, and sometimes these choices determine whether an effect is statistically significant or not."
   ]
  },
  {
   "cell_type": "markdown",
   "metadata": {},
   "source": [
    "### First babies again"
   ]
  },
  {
   "cell_type": "code",
   "execution_count": null,
   "metadata": {},
   "outputs": [],
   "source": [
    "firsts = preg[(preg.outcome==1) & (preg.birthord == 1) & (preg.prglngth.isna() == False)]\n",
    "others = preg[(preg.outcome==1) & (preg.birthord != 1) & (preg.prglngth.isna() == False)]"
   ]
  },
  {
   "cell_type": "code",
   "execution_count": null,
   "metadata": {},
   "outputs": [],
   "source": [
    "pool = np.hstack((firsts.prglngth, others.prglngth))"
   ]
  },
  {
   "cell_type": "code",
   "execution_count": null,
   "metadata": {},
   "outputs": [],
   "source": [
    "def ChiSquared(data, pool):\n",
    "    vals, counts = np.unique(data, return_counts=True) \n",
    "       \n",
    "    index = np.where((vals >=35 ) & (vals<=43))\n",
    "    observed = counts[index]\n",
    "    \n",
    "# calculate expected vals\n",
    "# The null hypothesis is that both samples are drawn from the same distribution (pool)\n",
    "    vals_model, counts_model = np.unique(pool, return_counts=True) \n",
    "    pmf_model = counts_model / sum(counts_model) \n",
    "    \n",
    "    index_model =  np.where((vals_model >=35 ) & (vals_model<=43))\n",
    "    expected = pmf_model[index_model]* len(data)\n",
    "    \n",
    "# calculate test statistic\n",
    "    test_statistic = sum((observed - expected)**2 / expected)\n",
    "    \n",
    "    return round(test_statistic,2)"
   ]
  },
  {
   "cell_type": "code",
   "execution_count": null,
   "metadata": {},
   "outputs": [],
   "source": [
    "chi_stat = ChiSquared(firsts.prglngth.values, pool)+ChiSquared(others.prglngth.values, pool)\n",
    "chi_stat"
   ]
  },
  {
   "cell_type": "code",
   "execution_count": null,
   "metadata": {},
   "outputs": [],
   "source": [
    "def null_hypothesis_simulation(pool, len1, len2, chi_stat, n=1000):\n",
    "    stats = []\n",
    "    for _ in range(n):\n",
    "        sample_1 = np.random.choice(pool, size=len1, replace=True)\n",
    "        sample_2 = np.random.choice(pool, size=len2, replace=True)\n",
    "        \n",
    "        test_stat = ChiSquared(sample_1, pool)+ChiSquared(sample_2, pool)\n",
    "        stats.append(test_stat)\n",
    "    \n",
    "    xs = np.linspace(35,43,100)\n",
    "    cdf = ECDF(stats)\n",
    "    sns.lineplot(x=xs, y=cdf(xs))\n",
    "    \n",
    "    plt.axvline(chi_stat,0,1,color='gray')"
   ]
  },
  {
   "cell_type": "code",
   "execution_count": null,
   "metadata": {},
   "outputs": [],
   "source": [
    "null_hypothesis_simulation(pool, len(firsts.prglngth), len(others.prglngth),chi_stat)"
   ]
  },
  {
   "cell_type": "markdown",
   "metadata": {},
   "source": [
    "We conclude that the observed chi-squared statistic is unlikely under the null hypothesis, so the apparent effect is statistically significant."
   ]
  },
  {
   "cell_type": "markdown",
   "metadata": {},
   "source": [
    "# Errors"
   ]
  },
  {
   "cell_type": "markdown",
   "metadata": {},
   "source": [
    "## false positive rate\n",
    "**Test**: effect real    \n",
    " **Reality**: effect is not real\n",
    "\n",
    "The probability, that we will wrongly consider effect as significant while it is actually due to chance.\n",
    "\n",
    "The false positive rate is relatively easy to compute: if the threshold is 5%, the false positive rate is 5%"
   ]
  },
  {
   "cell_type": "markdown",
   "metadata": {},
   "source": [
    "## false negative rate\n",
    "**Test**: effect is not real    \n",
    " **Reality**: effect is real\n",
    "\n",
    "probability that the hypothesis test will fail, but effect is real"
   ]
  },
  {
   "cell_type": "code",
   "execution_count": null,
   "metadata": {},
   "outputs": [],
   "source": [
    "def FalseNegRate(data, n=1000):\n",
    "    group1, group2 = data\n",
    "    \n",
    "    count = 0\n",
    "    \n",
    "    for i in range(n):\n",
    "        sample1 = np.random.choice(group1, len(group1),replace=True)\n",
    "        sample2 = np.random.choice(group2, len(group2),replace=True)\n",
    "        \n",
    "        p_value = HypTest(sample1, sample2)\n",
    "        \n",
    "        if p_value > 0.05:\n",
    "            count += 1\n",
    "            \n",
    "    return count/n"
   ]
  },
  {
   "cell_type": "code",
   "execution_count": null,
   "metadata": {},
   "outputs": [],
   "source": [
    "def HypTest(data1, data2):\n",
    "    test_stat = CalcTestStat(data1,data2)\n",
    "    \n",
    "    pool = np.hstack((data1, data2))\n",
    "        \n",
    "    iters = 100\n",
    "    counter = 0\n",
    "    for _ in range(iters):\n",
    "        np.random.shuffle(pool)\n",
    "        \n",
    "        sample1 = pool[:len(data1)]\n",
    "        sample2 = pool[len(data1):]\n",
    "#         sample1 = np.random.choice(pool, size=len(data1),replace=True)\n",
    "#         sample2 = np.random.choice(pool, size=len(data2),replace=True)\n",
    "        \n",
    "        stat = CalcTestStat(sample1, sample2)\n",
    "        \n",
    "        if stat >= test_stat:\n",
    "            counter += 1\n",
    "            \n",
    "    p_value = counter / iters\n",
    "    \n",
    "    return p_value  "
   ]
  },
  {
   "cell_type": "code",
   "execution_count": null,
   "metadata": {},
   "outputs": [],
   "source": [
    "def CalcTestStat(data1, data2):\n",
    "    test_stat = abs(np.mean(data1) - np.mean(data2))\n",
    "    \n",
    "    return test_stat"
   ]
  },
  {
   "cell_type": "code",
   "execution_count": null,
   "metadata": {},
   "outputs": [],
   "source": [
    "data = firsts.prglngth.values, others.prglngth.values\n",
    "FalseNegRate(data)"
   ]
  },
  {
   "cell_type": "markdown",
   "metadata": {},
   "source": [
    "The result is about 70%, which means that if the actual difference in mean pregnancy length is 0.078 weeks, we expect an experiment with this sample size to yield a negative test 70% of the time.\n",
    "\n",
    "This result is often presented the other way around: if the actual difference is 0.078 weeks, we should expect a positive test only 30% of the time. "
   ]
  },
  {
   "cell_type": "markdown",
   "metadata": {},
   "source": [
    "## Power of a hypothesis test \n",
    "is the probability that the test correctly rejects the null hypothesis\n",
    "\n",
    "In previous example power = 30 %"
   ]
  },
  {
   "cell_type": "markdown",
   "metadata": {},
   "source": [
    "## Exercises to chapter 9"
   ]
  },
  {
   "cell_type": "markdown",
   "metadata": {},
   "source": [
    "### Exercise 1"
   ]
  },
  {
   "cell_type": "code",
   "execution_count": null,
   "metadata": {},
   "outputs": [],
   "source": [
    "powers = []\n",
    "ps = []\n",
    "\n",
    "n_arr = [100,500,1000,2000,4000,5000,7000,10000,15000]\n",
    "\n",
    "for n in n_arr:\n",
    "    first = np.random.choice(firsts.prglngth.values, size=n, replace=True)\n",
    "    other = np.random.choice(others.prglngth.values, size=n, replace=True)\n",
    "\n",
    "    data = first, other\n",
    "    neg_rate = FalseNegRate(data)\n",
    "    \n",
    "    powers.append(1-neg_rate)\n",
    "\n",
    "    p_vals = HypTest(first, other)\n",
    "    ps.append(p_vals)\n",
    "\n",
    "fig, ax = plt.subplots(figsize=[12,6], nrows=1, ncols=2)\n",
    "sns.scatterplot(x=n_arr, y=powers,ax=ax[0]).set(title='Power vs size of sample')\n",
    "sns.scatterplot(x=n_arr, y=ps,ax=ax[1]).set(title='P value vs size of sample')"
   ]
  },
  {
   "cell_type": "markdown",
   "metadata": {},
   "source": [
    "### Exercise 2"
   ]
  },
  {
   "cell_type": "code",
   "execution_count": null,
   "metadata": {},
   "outputs": [],
   "source": [
    "def CalcTestStat(data1, data2):\n",
    "    test_stat = abs(np.mean(data1) - np.mean(data2))\n",
    "    \n",
    "    return test_stat"
   ]
  },
  {
   "cell_type": "markdown",
   "metadata": {},
   "source": [
    "#### permutation"
   ]
  },
  {
   "cell_type": "code",
   "execution_count": null,
   "metadata": {},
   "outputs": [],
   "source": [
    "def HypTest(data1, data2):\n",
    "    test_stat = CalcTestStat(data1,data2)\n",
    "    \n",
    "    pool = np.hstack((data1, data2))\n",
    "    \n",
    "    iters = 100\n",
    "    counter = 0\n",
    "    max_stat = 0\n",
    "    \n",
    "    for i in range(iters):\n",
    "        np.random.shuffle(pool)\n",
    "        sample1 = pool[:len(data1)]\n",
    "        sample2 = pool[len(data1):]\n",
    "        \n",
    "        stat = CalcTestStat(sample1, sample2)\n",
    "        \n",
    "        if stat >= test_stat:\n",
    "            counter += 1\n",
    "            \n",
    "        if stat > max_stat:\n",
    "            max_stat = stat\n",
    "    \n",
    "    p_value = counter / iters\n",
    "    \n",
    "    print(f\"p value is {round(p_value,2)}, max statistic is {round(max_stat,3)}, test stat is {round(test_stat,3)}\") "
   ]
  },
  {
   "cell_type": "code",
   "execution_count": null,
   "metadata": {},
   "outputs": [],
   "source": [
    "HypTest(firsts[firsts.prglngth.isna()==False].prglngth.values, others[others.prglngth.isna()==False].prglngth.values)"
   ]
  },
  {
   "cell_type": "code",
   "execution_count": null,
   "metadata": {},
   "outputs": [],
   "source": [
    "HypTest(firsts[firsts.totalwgt_lb.isna()==False].totalwgt_lb.values, others[others.totalwgt_lb.isna()==False].totalwgt_lb.values)"
   ]
  },
  {
   "cell_type": "markdown",
   "metadata": {},
   "source": [
    "#### bootstrapping"
   ]
  },
  {
   "cell_type": "code",
   "execution_count": null,
   "metadata": {},
   "outputs": [],
   "source": [
    "def HypTest_2(data1, data2):\n",
    "    test_stat = CalcTestStat(data1,data2)\n",
    "    \n",
    "    pool = np.hstack((data1, data2))\n",
    "    \n",
    "    counter = 0\n",
    "    iters = 100\n",
    "    max_stat = 0\n",
    "    for i in range(iters):\n",
    "        sample1 = np.random.choice(pool, len(data1),replace=True)\n",
    "        sample2 = np.random.choice(pool, len(data2),replace=True) \n",
    "        \n",
    "        stat = CalcTestStat(sample1, sample2)\n",
    "        \n",
    "        if stat >= test_stat:\n",
    "            counter += 1\n",
    "            \n",
    "        if stat > max_stat:\n",
    "            max_stat = stat\n",
    "    \n",
    "    p_value = counter / iters\n",
    "    \n",
    "    print(f\"p value is {round(p_value,2)}, max statistic is {round(max_stat,3)}, test stat is {round(test_stat,3)}\")"
   ]
  },
  {
   "cell_type": "code",
   "execution_count": null,
   "metadata": {},
   "outputs": [],
   "source": [
    "HypTest_2(firsts[firsts.prglngth.isna()==False].prglngth.values, others[others.prglngth.isna()==False].prglngth.values)"
   ]
  },
  {
   "cell_type": "code",
   "execution_count": null,
   "metadata": {},
   "outputs": [],
   "source": [
    "HypTest_2(firsts[firsts.totalwgt_lb.isna()==False].totalwgt_lb.values, others[others.totalwgt_lb.isna()==False].totalwgt_lb.values)"
   ]
  }
 ],
 "metadata": {
  "kernelspec": {
   "display_name": "Python 3",
   "language": "python",
   "name": "python3"
  },
  "language_info": {
   "codemirror_mode": {
    "name": "ipython",
    "version": 3
   },
   "file_extension": ".py",
   "mimetype": "text/x-python",
   "name": "python",
   "nbconvert_exporter": "python",
   "pygments_lexer": "ipython3",
   "version": "3.8.5"
  },
  "toc": {
   "base_numbering": 1,
   "nav_menu": {
    "height": "489.757px",
    "width": "397.76px"
   },
   "number_sections": true,
   "sideBar": true,
   "skip_h1_title": false,
   "title_cell": "Table of Contents",
   "title_sidebar": "Contents",
   "toc_cell": false,
   "toc_position": {},
   "toc_section_display": true,
   "toc_window_display": false
  }
 },
 "nbformat": 4,
 "nbformat_minor": 4
}
